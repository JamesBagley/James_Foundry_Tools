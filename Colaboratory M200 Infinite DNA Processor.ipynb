{
  "cells": [
    {
      "cell_type": "markdown",
      "metadata": {
        "id": "view-in-github",
        "colab_type": "text"
      },
      "source": [
        "<a href=\"https://colab.research.google.com/github/JamesBagley/James_Foundry_Tools/blob/master/Colaboratory%20M200%20Infinite%20DNA%20Processor.ipynb\" target=\"_parent\"><img src=\"https://colab.research.google.com/assets/colab-badge.svg\" alt=\"Open In Colab\"/></a>"
      ]
    },
    {
      "cell_type": "code",
      "source": [
        "#@title Imports\n",
        "import pandas as pd\n",
        "import numpy as np\n",
        "\n",
        "import sys\n",
        "if sys.version_info[0] < 3: \n",
        "    from StringIO import StringIO\n",
        "else:\n",
        "    from io import StringIO\n",
        "from google.colab import files\n",
        "\n"
      ],
      "metadata": {
        "cellView": "form",
        "id": "GnjLKF5er9b1"
      },
      "id": "GnjLKF5er9b1",
      "execution_count": null,
      "outputs": []
    },
    {
      "cell_type": "code",
      "source": [
        "inputData = files.upload()\n",
        "#@title Run Function\n",
        "OutputFileName = 'JacksonvillePleaBargain.xlsx'  #@param {type: \"string\"}\n",
        "HowCoolIsThis = 11  #@param {type: \"slider\", min: 0, max: 11}\n",
        "\n",
        "\n",
        "data = pd.read_excel(next(iter(inputData))).loc[:,:'Sample ID']\n",
        "\"\"\"\n",
        "Created on Tue Aug 10 14:52:12 2021\n",
        "\n",
        "@author: jbag2\n",
        "\"\"\"\n",
        "\n",
        "def read_nanoquant(data):\n",
        "    ds = data.loc\\\n",
        "        [:,['Unnamed: 1','Conc ng/µl','Ratio','Sample ID']].rename\\\n",
        "            (columns={'Unnamed: 1':'NQ_plate_well'}).dropna\\\n",
        "                (subset=['NQ_plate_well']).reset_index(drop=True)\n",
        "    cols = ds.apply(lambda x: int(x.NQ_plate_well[1:])+(x.name//16)*2, axis=1)\n",
        "    rows = ds.apply(lambda x: x.NQ_plate_well[0], axis=1)\n",
        "    original_mapping = \\\n",
        "        list(map(lambda x: x[0]+str(x[1]).zfill(2), zip(rows,cols)))\n",
        "    ds = ds.assign(plate_assignment = original_mapping)\n",
        " \n",
        "    ds = data.loc\\\n",
        "        [:,['Unnamed: 1','Conc ng/µl','Ratio','Sample ID']].rename\\\n",
        "            (columns={'Unnamed: 1':'NQ_plate_well'}).dropna\\\n",
        "                (subset=['NQ_plate_well']).reset_index(drop=True)\n",
        "    cols = ds.apply(lambda x: int(x.NQ_plate_well[1:])+(x.name//16)*2, axis=1)\n",
        "    rows = ds.apply(lambda x: x.NQ_plate_well[0], axis=1)\n",
        "    original_mapping = \\\n",
        "        list(map(lambda x: x[0]+str(x[1]).zfill(2), zip(rows,cols)))\n",
        "    ds = ds.assign(plate_assignment = original_mapping)\n",
        "    ds = ds.set_index('plate_assignment')\n",
        "    return(ds)\n",
        "\n",
        "output = read_nanoquant(data).sort_values('plate_assignment')\n",
        "output.to_excel(OutputFileName)\n",
        "files.download(OutputFileName)"
      ],
      "metadata": {
        "id": "HvukVP18tD7f",
        "cellView": "form"
      },
      "id": "HvukVP18tD7f",
      "execution_count": null,
      "outputs": []
    },
    {
      "cell_type": "code",
      "source": [
        "#@title Generate Figures\n",
        "output.plot(y='Conc ng/µl', kind='hist', xlim=[1,1500],\n",
        "            xticks=[0,10,50,100,500,1000,1500], logx=True)\n",
        "output.plot(y='Ratio', kind='hist', xlim=[1.5,2.1])\n",
        "\n",
        "import plotly.express as px\n",
        "platemap=pd.to_numeric(output['Conc ng/µl']).values.reshape([8,12])\n",
        "fig = px.imshow(platemap, labels=dict(x=\"Column\", y=\"Row\",\n",
        "                                      color=\"DNA Concentration (ng/µl)\"),\n",
        "                x='1,2,3,4,5,6,7,8,9,10,11,12'.split(','),\n",
        "                y=list('ABCDEFGH'),\n",
        "                width=1200, height=600)\n",
        "fig.update_xaxes(side=\"top\")\n",
        "fig\n"
      ],
      "metadata": {
        "cellView": "form",
        "id": "8ex21O4ZxWQT"
      },
      "id": "8ex21O4ZxWQT",
      "execution_count": null,
      "outputs": []
    }
  ],
  "metadata": {
    "kernelspec": {
      "display_name": "Python 3",
      "language": "python",
      "name": "python3"
    },
    "language_info": {
      "codemirror_mode": {
        "name": "ipython",
        "version": 3
      },
      "file_extension": ".py",
      "mimetype": "text/x-python",
      "name": "python",
      "nbconvert_exporter": "python",
      "pygments_lexer": "ipython3",
      "version": "3.7.7"
    },
    "colab": {
      "name": "nanoquant parser.ipynb",
      "provenance": [],
      "private_outputs": true,
      "collapsed_sections": [],
      "include_colab_link": true
    }
  },
  "nbformat": 4,
  "nbformat_minor": 5
}